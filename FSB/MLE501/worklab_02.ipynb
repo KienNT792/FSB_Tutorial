{
 "cells": [
  {
   "metadata": {},
   "cell_type": "markdown",
   "source": [
    "Find two datasets with labels. Remember to split the dataset into training/test subsets.\n",
    "1. Run k-nn on these two datasets.\n",
    "2. Calculate the classification error, precision, recall, and f1-score (by comparing the class labels obtained with the prediction and the original labels of the test data).\n",
    "3. Vary the value of k, and comment on the results.\n",
    "4. Try to normalize the input dataset. Is the performance better?\n",
    "5. Repeat these questions for SVM."
   ],
   "id": "8ec9eaa89595cef9"
  },
  {
   "metadata": {
    "ExecuteTime": {
     "end_time": "2025-10-17T13:55:19.425317Z",
     "start_time": "2025-10-17T13:55:19.421553Z"
    }
   },
   "cell_type": "code",
   "source": [
    "import numpy as np\n",
    "import pandas as pd\n",
    "from sklearn import datasets\n",
    "from sklearn.preprocessing import StandardScaler\n",
    "from sklearn.neighbors import KNeighborsClassifier\n",
    "from sklearn.metrics import accuracy_score, precision_score, recall_score, f1_score\n",
    "from sklearn.svm import SVC\n",
    "\n"
   ],
   "id": "a4f83a1a70a3af7e",
   "outputs": [],
   "execution_count": 13
  },
  {
   "metadata": {
    "ExecuteTime": {
     "end_time": "2025-10-17T13:51:23.985049Z",
     "start_time": "2025-10-17T13:51:23.981174Z"
    }
   },
   "cell_type": "code",
   "source": [
    "def evaluate_kun(X_train, X_test, y_train, y_test, k_values):\n",
    "    results = []\n",
    "    for k in k_values:\n",
    "        model = KNeighborsClassifier(n_neighbors=k)\n",
    "        model.fit(X_train, y_train)\n",
    "        y_pred = model.predict(X_test)\n",
    "\n",
    "        error = 1 - accuracy_score(y_test, y_pred)\n",
    "        results.append({\n",
    "            'k': k,\n",
    "            'error': error,\n",
    "            'precision': precision_score(y_test, y_pred, average='macro'),\n",
    "            'recall': recall_score(y_test, y_pred, average='macro'),\n",
    "            'f1': f1_score(y_test, y_pred, average='macro')\n",
    "        })\n",
    "    return pd.DataFrame(results)\n"
   ],
   "id": "2c56b6143b9b7e3e",
   "outputs": [],
   "execution_count": 10
  },
  {
   "metadata": {
    "ExecuteTime": {
     "end_time": "2025-10-17T13:43:43.974386Z",
     "start_time": "2025-10-17T13:43:43.959152Z"
    }
   },
   "cell_type": "code",
   "source": [
    "iris = datasets.load_iris()  ## Dữ liệu hoa iris\n",
    "wine = datasets.load_wine()  ## Dữ liệu rượu vang"
   ],
   "id": "44d6f52a1e2e48af",
   "outputs": [],
   "execution_count": 2
  },
  {
   "metadata": {
    "ExecuteTime": {
     "end_time": "2025-10-17T13:44:21.276053Z",
     "start_time": "2025-10-17T13:44:21.273008Z"
    }
   },
   "cell_type": "code",
   "source": [
    "X_iris, y_iris = iris.data, iris.target\n",
    "X_wine, y_wine = wine.data, wine.target"
   ],
   "id": "4438c9ccd405d919",
   "outputs": [],
   "execution_count": 3
  },
  {
   "metadata": {
    "ExecuteTime": {
     "end_time": "2025-10-17T13:44:35.898995Z",
     "start_time": "2025-10-17T13:44:35.798284Z"
    }
   },
   "cell_type": "code",
   "source": "from sklearn.model_selection import train_test_split\n",
   "id": "9d61ac94875068eb",
   "outputs": [],
   "execution_count": 4
  },
  {
   "metadata": {
    "ExecuteTime": {
     "end_time": "2025-10-17T13:45:01.768100Z",
     "start_time": "2025-10-17T13:45:01.763149Z"
    }
   },
   "cell_type": "code",
   "source": [
    "X_iris_train, X_iris_test, y_iris_train, y_iris_test = train_test_split(X_iris, y_iris, test_size=0.2, random_state=42)\n",
    "X_wine_train, X_wine_test, y_wine_train, y_wine_test = train_test_split(X_wine, y_wine, test_size=0.2, random_state=42)"
   ],
   "id": "6dc201288ff12fe2",
   "outputs": [],
   "execution_count": 5
  },
  {
   "metadata": {
    "ExecuteTime": {
     "end_time": "2025-10-17T13:51:28.876927Z",
     "start_time": "2025-10-17T13:51:28.826449Z"
    }
   },
   "cell_type": "code",
   "source": [
    "## IRIS\n",
    "k_values = [1, 3, 5, 7, 9]\n",
    "knn_results_iris = evaluate_kun(X_iris_train, X_iris_test, y_iris_train, y_iris_test, k_values)\n",
    "print(\"K-NN Results on Iris Dataset:\")\n",
    "print(knn_results_iris)\n",
    "\n",
    "# Chuẩn hóa dữ liệu\n",
    "scaler_iris = StandardScaler()\n",
    "X_iris_train_scaled = scaler_iris.fit_transform(X_iris_train)\n",
    "X_iris_test_scaled = scaler_iris.transform(X_iris_test)\n",
    "\n",
    "knn_results_iris_scaled = evaluate_kun(X_iris_train_scaled, X_iris_test_scaled, y_iris_train, y_iris_test, k_values)\n",
    "print(\"\\nK-NN Results on Scaled Iris Dataset:\")\n",
    "print(knn_results_iris_scaled)"
   ],
   "id": "9ea5a91a279703cf",
   "outputs": [
    {
     "name": "stdout",
     "output_type": "stream",
     "text": [
      "K-NN Results on Iris Dataset:\n",
      "   k     error  precision    recall        f1\n",
      "0  1  0.000000   1.000000  1.000000  1.000000\n",
      "1  3  0.000000   1.000000  1.000000  1.000000\n",
      "2  5  0.000000   1.000000  1.000000  1.000000\n",
      "3  7  0.033333   0.972222  0.962963  0.965899\n",
      "4  9  0.000000   1.000000  1.000000  1.000000\n",
      "\n",
      "K-NN Results on Scaled Iris Dataset:\n",
      "   k  error  precision  recall   f1\n",
      "0  1    0.0        1.0     1.0  1.0\n",
      "1  3    0.0        1.0     1.0  1.0\n",
      "2  5    0.0        1.0     1.0  1.0\n",
      "3  7    0.0        1.0     1.0  1.0\n",
      "4  9    0.0        1.0     1.0  1.0\n"
     ]
    }
   ],
   "execution_count": 11
  },
  {
   "metadata": {
    "ExecuteTime": {
     "end_time": "2025-10-17T13:54:35.014950Z",
     "start_time": "2025-10-17T13:54:34.960556Z"
    }
   },
   "cell_type": "code",
   "source": [
    "## Wine\n",
    "knn_results_wine = evaluate_kun(X_wine_train, X_wine_test, y_wine_train, y_wine_test, k_values)\n",
    "print(\"\\nK-NN Results on Wine Dataset:\")\n",
    "print(knn_results_wine)\n",
    "# Chuẩn hóa dữ liệu\n",
    "scaler_wine = StandardScaler()\n",
    "X_wine_train_scaled = scaler_wine.fit_transform(X_wine_train)\n",
    "X_wine_test_scaled = scaler_wine.transform(X_wine_test)\n",
    "knn_results_wine_scaled = evaluate_kun(X_wine_train_scaled, X_wine_test_scaled, y_wine_train, y_wine_test, k_values)\n",
    "print(\"\\nK-NN Results on Scaled Wine Dataset:\")\n",
    "print(knn_results_wine_scaled)"
   ],
   "id": "18fe91b06d919367",
   "outputs": [
    {
     "name": "stdout",
     "output_type": "stream",
     "text": [
      "\n",
      "K-NN Results on Wine Dataset:\n",
      "   k     error  precision    recall        f1\n",
      "0  1  0.222222   0.770147  0.755952  0.760494\n",
      "1  3  0.194444   0.791270  0.797619  0.789988\n",
      "2  5  0.277778   0.672619  0.672619  0.672619\n",
      "3  7  0.305556   0.650000  0.648810  0.647267\n",
      "4  9  0.277778   0.724603  0.708333  0.702381\n",
      "\n",
      "K-NN Results on Scaled Wine Dataset:\n",
      "   k     error  precision    recall        f1\n",
      "0  1  0.055556   0.940741  0.952381  0.943257\n",
      "1  3  0.055556   0.940741  0.952381  0.943257\n",
      "2  5  0.055556   0.940741  0.952381  0.943257\n",
      "3  7  0.055556   0.940741  0.952381  0.943257\n",
      "4  9  0.055556   0.940741  0.952381  0.943257\n"
     ]
    }
   ],
   "execution_count": 12
  },
  {
   "metadata": {
    "ExecuteTime": {
     "end_time": "2025-10-17T13:56:43.847733Z",
     "start_time": "2025-10-17T13:56:43.815069Z"
    }
   },
   "cell_type": "code",
   "source": [
    "def evaluate_svm(X_train, X_test, y_train, y_test, kernel_types):\n",
    "    results = []\n",
    "    for kernel in kernel_types:\n",
    "        model = SVC(kernel=kernel)\n",
    "        model.fit(X_train, y_train)\n",
    "        y_pred = model.predict(X_test)\n",
    "        error = 1 - accuracy_score(y_test, y_pred)\n",
    "        results.append({\n",
    "            'kernel': kernel,\n",
    "            'error': error,\n",
    "            'precision': precision_score(y_test, y_pred, average='macro'),\n",
    "            'recall': recall_score(y_test, y_pred, average='macro'),\n",
    "            'f1': f1_score(y_test, y_pred, average='macro')\n",
    "        })\n",
    "    return pd.DataFrame(results)\n",
    "\n",
    "kernels = ['linear', 'rbf', 'poly']\n",
    "svm_results_iris = evaluate_svm(X_iris_train_scaled, X_iris_test_scaled, y_iris_train, y_iris_test, kernels)\n",
    "svm_results_wine = evaluate_svm(X_wine_train_scaled, X_wine_test_scaled, y_wine_train, y_wine_test, kernels)\n",
    "\n",
    "print(\"\\nSVM results on IRIS (normalized):\")\n",
    "print(svm_results_iris)\n",
    "\n",
    "print(\"\\nSVM results on WINE (normalized):\")\n",
    "print(svm_results_wine)\n"
   ],
   "id": "b81ec4db78c335db",
   "outputs": [
    {
     "name": "stdout",
     "output_type": "stream",
     "text": [
      "\n",
      "SVM results on IRIS (normalized):\n",
      "   kernel     error  precision    recall        f1\n",
      "0  linear  0.033333   0.972222  0.962963  0.965899\n",
      "1     rbf  0.000000   1.000000  1.000000  1.000000\n",
      "2    poly  0.033333   0.966667  0.969697  0.966583\n",
      "\n",
      "SVM results on WINE (normalized):\n",
      "   kernel     error  precision   recall        f1\n",
      "0  linear  0.027778   0.962963  0.97619  0.968046\n",
      "1     rbf  0.000000   1.000000  1.00000  1.000000\n",
      "2    poly  0.027778   0.977778  0.97619  0.976160\n"
     ]
    }
   ],
   "execution_count": 14
  }
 ],
 "metadata": {
  "kernelspec": {
   "display_name": "Python [conda env:base] *",
   "language": "python",
   "name": "conda-base-py"
  },
  "language_info": {
   "codemirror_mode": {
    "name": "ipython",
    "version": 2
   },
   "file_extension": ".py",
   "mimetype": "text/x-python",
   "name": "python",
   "nbconvert_exporter": "python",
   "pygments_lexer": "ipython2",
   "version": "2.7.6"
  }
 },
 "nbformat": 4,
 "nbformat_minor": 5
}
