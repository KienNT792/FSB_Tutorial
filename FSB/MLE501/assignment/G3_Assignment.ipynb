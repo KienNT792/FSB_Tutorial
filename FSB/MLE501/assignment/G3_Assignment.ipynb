{
 "cells": [
  {
   "metadata": {},
   "cell_type": "markdown",
   "source": [
    "# Thông tin bài toán\n",
    "\n",
    "##  Mục tiêu\n",
    "Dự đoán **các chỉ số chất lượng không khí trong tương lai** cho mỗi bản ghi.\n",
    "\n",
    "---\n",
    "\n",
    "##  Dạng bài toán\n",
    "**Hồi quy đa biến (Multi-output Regression)**\n",
    "\n",
    "---\n",
    "\n",
    "##  Dữ liệu đầu vào / đầu ra\n",
    "\n",
    "### **Input** (các cột sử dụng)\n",
    "- `country`\n",
    "- `location_name`\n",
    "- `last_updated`\n",
    "\n",
    "### **Output** (các target cần dự đoán)\n",
    "- `air_quality_PM2.5`\n",
    "- `air_quality_PM10`\n",
    "- `air_quality_Nitrogen_dioxide`\n",
    "- `air_quality_Ozone`\n",
    "\n",
    "---\n",
    "\n",
    "##  Thông tin file và nguồn dữ liệu\n",
    "\n",
    "### **File dữ liệu**\n",
    "`GlobalWeatherRepository.csv`\n",
    "\n",
    "### **Nguồn dữ liệu (live update)**\n",
    "[https://www.kaggle.com/datasets/nelgiriyewithana/global-weather-repository/data](https://www.kaggle.com/datasets/nelgiriyewithana/global-weather-repository/data)\n"
   ],
   "id": "5ef77e7286ab7d8a"
  },
  {
   "metadata": {},
   "cell_type": "markdown",
   "source": "### Step 1: Đọc dữ liệu",
   "id": "d594f94480d4cb14"
  },
  {
   "cell_type": "code",
   "id": "initial_id",
   "metadata": {
    "collapsed": true
   },
   "source": [
    "import pandas as pd\n",
    "\n",
    "df = pd.read_csv('GlobalWeatherRepository.csv')\n",
    "df.head()"
   ],
   "outputs": [],
   "execution_count": null
  },
  {
   "metadata": {},
   "cell_type": "code",
   "source": "df.describe()",
   "id": "531bc6ba1120dbfe",
   "outputs": [],
   "execution_count": null
  },
  {
   "metadata": {},
   "cell_type": "markdown",
   "source": "### Step 2: Chuyển đổi, lọc dữ liệu",
   "id": "15517169ad5403a6"
  },
  {
   "metadata": {},
   "cell_type": "code",
   "source": [
    "df['last_updated'] = pd.to_datetime(df['last_updated'])\n",
    "\n",
    "# Lấy dữ liệu cần thiết\n",
    "features = ['country', 'location_name', 'last_updated']\n",
    "targets = [\n",
    "    'air_quality_PM2.5',\n",
    "    'air_quality_PM10',\n",
    "    'air_quality_Nitrogen_dioxide',\n",
    "    'air_quality_Ozone'\n",
    "]\n",
    "\n",
    "data = df[features + targets].copy()\n",
    "data.head()"
   ],
   "id": "d18fec1ffd587d45",
   "outputs": [],
   "execution_count": null
  },
  {
   "metadata": {},
   "cell_type": "markdown",
   "source": "### Step 3: Xử lý dữ liệu",
   "id": "f014ee388bba7082"
  },
  {
   "metadata": {},
   "cell_type": "code",
   "source": [
    "# Handle datetime values\n",
    "data['year'] = data['last_updated'].dt.year\n",
    "data['month'] = data['last_updated'].dt.month\n",
    "data['day'] = data['last_updated'].dt.day\n",
    "data.drop(columns=['last_updated'], inplace=True)"
   ],
   "id": "8372d0dd44d3b353",
   "outputs": [],
   "execution_count": null
  },
  {
   "metadata": {},
   "cell_type": "code",
   "source": [
    "# Encode categorical features\n",
    "from sklearn.preprocessing import LabelEncoder\n",
    "\n",
    "le_country = LabelEncoder()\n",
    "le_location_name = LabelEncoder()\n",
    "\n",
    "data['country'] = le_country.fit_transform(data['country'])\n",
    "data['location_name'] = le_location_name.fit_transform(data['location_name'])"
   ],
   "id": "149faa8f3e770c17",
   "outputs": [],
   "execution_count": null
  },
  {
   "metadata": {},
   "cell_type": "markdown",
   "source": "### Step 4: Chia dữ liệu thành tập huấn luyện và tập kiểm tra",
   "id": "28d61bf5cf54a55a"
  },
  {
   "metadata": {},
   "cell_type": "code",
   "source": [
    "X = data['country', 'location_name', 'year', 'month', 'day']\n",
    "y = data[targets]\n",
    "\n"
   ],
   "id": "bb6a9b9f43d968b4",
   "outputs": [],
   "execution_count": null
  }
 ],
 "metadata": {
  "kernelspec": {
   "display_name": "Python 3",
   "language": "python",
   "name": "python3"
  },
  "language_info": {
   "codemirror_mode": {
    "name": "ipython",
    "version": 2
   },
   "file_extension": ".py",
   "mimetype": "text/x-python",
   "name": "python",
   "nbconvert_exporter": "python",
   "pygments_lexer": "ipython2",
   "version": "2.7.6"
  }
 },
 "nbformat": 4,
 "nbformat_minor": 5
}
