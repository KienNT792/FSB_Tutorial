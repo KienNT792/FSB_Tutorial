{
 "cells": [
  {
   "cell_type": "markdown",
   "id": "0d6aa2f1",
   "metadata": {},
   "source": [
    "- Select two datasets (recommending datasets with labels)\n",
    "1. Clustering\n",
    "- Apply AHC/K-Means clustering on both datasets.\n",
    "- Evaluate clustering performance. Comment on results\n",
    "\n",
    "2. K-means on subspace\n",
    "- Apply PCA/SVD/T-SNE/or UMAP to reduce dimensionality:\n",
    "- Run K-Means and AHC on the reduced data\n",
    "- Compare performance with original data\n",
    "- Visualize clusters in reduced space"
   ]
  }
 ],
 "metadata": {
  "language_info": {
   "name": "python"
  }
 },
 "nbformat": 4,
 "nbformat_minor": 5
}
