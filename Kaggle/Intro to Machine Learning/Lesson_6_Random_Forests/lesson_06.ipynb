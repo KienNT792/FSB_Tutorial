{
 "cells": [
  {
   "metadata": {},
   "cell_type": "markdown",
   "source": [
    "# 🌲 Giới thiệu: Decision Tree và Random Forest\n",
    "\n",
    "## ⚖️ Bài toán về Decision Tree\n",
    "\n",
    "Decision Tree để lại cho bạn một **quyết định khó khăn**:\n",
    "\n",
    "- **Cây sâu, nhiều lá:**\n",
    "  - Dễ **overfitting**, vì mỗi dự đoán chỉ dựa trên **một số ít ngôi nhà trong lá đó**.\n",
    "- **Cây nông, ít lá:**\n",
    "  - Dễ **underfitting**, vì cây không thể nắm bắt đủ các phân biệt trong dữ liệu thô.\n",
    "\n",
    "Ngay cả các kỹ thuật mô hình hóa **tân tiến nhất hiện nay** cũng gặp phải **xung đột giữa underfitting và overfitting**.\n",
    "\n",
    "---\n",
    "\n",
    "## 🌳 Random Forest: Giải pháp cải thiện\n",
    "\n",
    "Random Forest là một ví dụ về mô hình cải thiện vấn đề trên:\n",
    "\n",
    "- Sử dụng **nhiều cây quyết định**.\n",
    "- Dự đoán bằng cách **trung bình các dự đoán của từng cây con**.\n",
    "- Ưu điểm:\n",
    "  - Độ chính xác dự đoán **cao hơn nhiều so với một cây đơn lẻ**.\n",
    "  - Hoạt động tốt ngay cả với **tham số mặc định**.\n",
    "\n",
    "Nếu tiếp tục mô hình hóa, bạn có thể học thêm các mô hình khác với hiệu suất tốt hơn.\n",
    "Tuy nhiên, nhiều mô hình phức tạp hơn lại **nhạy cảm với việc chọn đúng tham số**.\n"
   ],
   "id": "7a8900861d836798"
  },
  {
   "metadata": {},
   "cell_type": "markdown",
   "source": [
    "## 📝 Ví dụ: Chuẩn bị dữ liệu cho mô hình\n",
    "\n",
    "Bạn đã từng thấy cách **load dữ liệu** vài lần.\n",
    "Sau khi load xong và chia dữ liệu, ta có các biến chính sau:\n",
    "\n",
    "- `train_X` : tập features dùng để huấn luyện mô hình\n",
    "- `val_X`   : tập features dùng để kiểm định mô hình\n",
    "- `train_y` : target (giá nhà) cho tập huấn luyện\n",
    "- `val_y`   : target (giá nhà) cho tập kiểm định\n",
    "\n",
    "Các biến này sẽ được sử dụng để huấn luyện **Decision Tree** hoặc **Random Forest** và đánh giá hiệu suất bằng MAE.\n"
   ],
   "id": "c0a14c976dd54750"
  },
  {
   "metadata": {
    "ExecuteTime": {
     "end_time": "2025-10-13T09:02:34.014308Z",
     "start_time": "2025-10-13T09:02:20.174464Z"
    }
   },
   "cell_type": "code",
   "source": [
    "import pandas as pd\n",
    "\n",
    "# Load data\n",
    "melbourne_file_path = '../input/melb_data.csv'\n",
    "melbourne_data = pd.read_csv(melbourne_file_path)\n",
    "# Filter rows with missing values\n",
    "melbourne_data = melbourne_data.dropna(axis=0)\n",
    "# Choose target and features\n",
    "y = melbourne_data.Price\n",
    "melbourne_features = ['Rooms', 'Bathroom', 'Landsize', 'BuildingArea',\n",
    "                        'YearBuilt', 'Lattitude', 'Longtitude']\n",
    "X = melbourne_data[melbourne_features]\n",
    "\n",
    "from sklearn.model_selection import train_test_split\n",
    "\n",
    "# split data into training and validation data, for both features and target\n",
    "# The split is based on a random number generator. Supplying a numeric value to\n",
    "# the random_state argument guarantees we get the same split every time we\n",
    "# run this script.\n",
    "train_X, val_X, train_y, val_y = train_test_split(X, y,random_state = 0)"
   ],
   "id": "7e998abf020819dd",
   "outputs": [],
   "execution_count": 1
  },
  {
   "metadata": {},
   "cell_type": "markdown",
   "source": [
    "## Xây dựng mô hình Random Forest\n",
    "\n",
    "Chúng ta xây dựng mô hình **Random Forest** tương tự như khi xây dựng **Decision Tree** trong scikit-learn.\n",
    "Điểm khác là lần này sử dụng **`RandomForestRegressor`** thay vì **`DecisionTreeRegressor`**.\n",
    "\n",
    "```python\n",
    "from sklearn.ensemble import RandomForestRegressor\n",
    "from sklearn.metrics import mean_absolute_error\n",
    "\n",
    "# Khởi tạo mô hình Random Forest\n",
    "rf_model = RandomForestRegressor(random_state=1)\n",
    "\n",
    "# Huấn luyện trên tập train\n",
    "rf_model.fit(train_X, train_y)\n",
    "\n",
    "# Dự đoán trên tập validation\n",
    "rf_preds = rf_model.predict(val_X)\n",
    "\n",
    "# Tính MAE để đánh giá mô hình\n",
    "rf_mae = mean_absolute_error(val_y, rf_preds)\n",
    "print(f\"MAE của Random Forest: {rf_mae:,.0f}\")\n"
   ],
   "id": "963df8669ce3776b"
  }
 ],
 "metadata": {
  "kernelspec": {
   "display_name": "Python 3",
   "language": "python",
   "name": "python3"
  },
  "language_info": {
   "codemirror_mode": {
    "name": "ipython",
    "version": 2
   },
   "file_extension": ".py",
   "mimetype": "text/x-python",
   "name": "python",
   "nbconvert_exporter": "python",
   "pygments_lexer": "ipython2",
   "version": "2.7.6"
  }
 },
 "nbformat": 4,
 "nbformat_minor": 5
}
